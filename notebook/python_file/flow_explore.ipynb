{
 "cells": [
  {
   "cell_type": "code",
   "execution_count": null,
   "metadata": {},
   "outputs": [],
   "source": [
    "from metaflow import FlowSpec, step, Flow, Parameter, JSONType\n",
    "\n",
    "class ClassifierPredictFlow(FlowSpec):\n",
    "    vector = Parameter('vector', type=JSONType, required=True)\n",
    "\n",
    "    @step\n",
    "    def start(self):\n",
    "        run = Flow('ClassifierTrainFlow').latest_run \n",
    "        self.train_run_id = run.pathspec \n",
    "        self.model = run['end'].task.data.model\n",
    "        print(\"Input vector\", self.vector)\n",
    "        self.next(self.end)\n",
    "\n",
    "    @step\n",
    "    def end(self):\n",
    "        print('Model', self.model)\n",
    "\n",
    "if __name__=='__main__':\n",
    "    ClassifierPredictFlow()"
   ]
  }
 ],
 "metadata": {
  "language_info": {
   "name": "python"
  },
  "orig_nbformat": 4
 },
 "nbformat": 4,
 "nbformat_minor": 2
}
